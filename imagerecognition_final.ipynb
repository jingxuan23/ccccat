{
 "cells": [
  {
   "cell_type": "code",
   "execution_count": 1,
   "metadata": {},
   "outputs": [],
   "source": [
    "import numpy as np\n",
    "import cv2\n",
    "import os\n",
    "import sys\n",
    "from numpy import linalg as LA\n",
    "from PIL import Image"
   ]
  },
  {
   "cell_type": "code",
   "execution_count": 2,
   "metadata": {},
   "outputs": [],
   "source": [
    "faceCascade = cv2.CascadeClassifier(\"haarcascade_frontalface_default.xml\") #人臉辨識器\n",
    "\n",
    "#Eigen=cv2.face.EigenFaceRecognizer_create()\n",
    "#Eigen = cv2.face.FisherFaceRecognizer_create()\n",
    "Eigen = cv2.face.LBPHFaceRecognizer_create()"
   ]
  },
  {
   "cell_type": "code",
   "execution_count": 3,
   "metadata": {},
   "outputs": [],
   "source": [
    "def loadimage(n):\n",
    "    x,y=[],[] \n",
    "    n=open(n)\n",
    "    line=n.readlines()\n",
    "    \n",
    "    for i in range(len(line)):\n",
    "        filename,labs=line[i].split(\" \") #用空白分開\n",
    "        x.append(process(filename))#在一個一個放到陣列裡面 回傳陣列方法\n",
    "        y.append(int(labs))\n",
    "        \n",
    "    return x,y"
   ]
  },
  {
   "cell_type": "code",
   "execution_count": 13,
   "metadata": {},
   "outputs": [],
   "source": [
    "def process(filename):\n",
    "    image=cv2.imread(filename)\n",
    "    image=cv2.cvtColor(image, cv2.COLOR_BGR2GRAY)  #轉成灰階加快檢測速度\n",
    "    faces=faceCascade.detectMultiScale(image,scaleFactor=1.8,minNeighbors=5)\n",
    "    #把圖片設定成只有人臉 回傳圖片回去\n",
    "    #scaleFactor 每次搜尋時減少的倍率,minNeighbors目標至少被檢測五次以上，才認為人臉存在\n",
    "    #minSize 設定數據搜尋的最小尺寸\n",
    "    \n",
    "    if len(faces)>0:\n",
    "        faces=faces[0] \n",
    "        image=cv2.resize(image[faces[0]:faces[0]+faces[2],faces[1]:faces[1]+faces[3]],(250,250))\n",
    "        \n",
    "    return image\n"
   ]
  },
  {
   "cell_type": "code",
   "execution_count": 14,
   "metadata": {
    "scrolled": false
   },
   "outputs": [],
   "source": [
    "x,y=loadimage(\"train.txt\")\n",
    "valx,valy=loadimage(\"val.txt\")"
   ]
  },
  {
   "cell_type": "code",
   "execution_count": 15,
   "metadata": {},
   "outputs": [],
   "source": [
    "Eigen.train(x,np.array(y)) #np.array 把它變成陣列"
   ]
  },
  {
   "cell_type": "code",
   "execution_count": 16,
   "metadata": {},
   "outputs": [],
   "source": [
    "Eigen.save(\"train.xml\") #可以暫存檔 重跑方便"
   ]
  },
  {
   "cell_type": "code",
   "execution_count": 17,
   "metadata": {
    "scrolled": true
   },
   "outputs": [],
   "source": [
    "from sklearn.metrics import classification_report #回報準確度\n",
    "\n",
    "a = []\n",
    "\n",
    "for i in range(0, len(valx)):\n",
    "    (p,c)=Eigen.predict(valx[i])\n",
    "    a.append(p)"
   ]
  },
  {
   "cell_type": "code",
   "execution_count": 18,
   "metadata": {
    "scrolled": true
   },
   "outputs": [
    {
     "name": "stdout",
     "output_type": "stream",
     "text": [
      "              precision    recall  f1-score   support\n",
      "\n",
      "           0       0.00      0.00      0.00         1\n",
      "           1       0.00      0.00      0.00         1\n",
      "           2       0.00      0.00      0.00         1\n",
      "           3       1.00      1.00      1.00         1\n",
      "           4       1.00      1.00      1.00         1\n",
      "           5       0.00      0.00      0.00         1\n",
      "           6       0.00      0.00      0.00         1\n",
      "           7       0.00      0.00      0.00         1\n",
      "           8       0.00      0.00      0.00         1\n",
      "           9       0.00      0.00      0.00         1\n",
      "          10       0.00      0.00      0.00         1\n",
      "          11       0.00      0.00      0.00         1\n",
      "          12       0.00      0.00      0.00         1\n",
      "          13       0.00      0.00      0.00         1\n",
      "          14       0.25      1.00      0.40         1\n",
      "          15       1.00      1.00      1.00         1\n",
      "          16       0.00      0.00      0.00         1\n",
      "          17       0.00      0.00      0.00         1\n",
      "          18       0.00      0.00      0.00         1\n",
      "          19       0.00      0.00      0.00         1\n",
      "          20       0.00      0.00      0.00         1\n",
      "          21       0.00      0.00      0.00         1\n",
      "          22       0.00      0.00      0.00         1\n",
      "          23       1.00      1.00      1.00         1\n",
      "          24       0.00      0.00      0.00         1\n",
      "          25       1.00      1.00      1.00         1\n",
      "          26       1.00      1.00      1.00         1\n",
      "          27       0.50      1.00      0.67         1\n",
      "          28       1.00      1.00      1.00         1\n",
      "          29       1.00      1.00      1.00         1\n",
      "          30       0.50      1.00      0.67         1\n",
      "          31       1.00      1.00      1.00         1\n",
      "          32       0.00      0.00      0.00         1\n",
      "          33       0.00      0.00      0.00         1\n",
      "          34       0.00      0.00      0.00         1\n",
      "          35       0.00      0.00      0.00         1\n",
      "          36       0.00      0.00      0.00         1\n",
      "          37       0.00      0.00      0.00         1\n",
      "          38       0.00      0.00      0.00         1\n",
      "          39       0.00      0.00      0.00         1\n",
      "          40       0.50      1.00      0.67         1\n",
      "          41       0.00      0.00      0.00         1\n",
      "          42       0.00      0.00      0.00         1\n",
      "          43       0.00      0.00      0.00         1\n",
      "          44       0.00      0.00      0.00         1\n",
      "          45       0.00      0.00      0.00         1\n",
      "          46       0.00      0.00      0.00         1\n",
      "          47       0.00      0.00      0.00         1\n",
      "          48       0.00      0.00      0.00         1\n",
      "          49       1.00      1.00      1.00         1\n",
      "          50       1.00      1.00      1.00         1\n",
      "          51       0.33      1.00      0.50         1\n",
      "          52       0.00      0.00      0.00         1\n",
      "          53       0.00      0.00      0.00         1\n",
      "          54       0.00      0.00      0.00         1\n",
      "          55       0.00      0.00      0.00         1\n",
      "          56       0.00      0.00      0.00         1\n",
      "          57       0.00      0.00      0.00         1\n",
      "          58       0.00      0.00      0.00         1\n",
      "          59       1.00      1.00      1.00         1\n",
      "          60       0.00      0.00      0.00         1\n",
      "          61       1.00      1.00      1.00         1\n",
      "          62       0.00      0.00      0.00         1\n",
      "          63       1.00      1.00      1.00         1\n",
      "          64       0.00      0.00      0.00         1\n",
      "          65       0.50      1.00      0.67         1\n",
      "          66       0.00      0.00      0.00         1\n",
      "          67       1.00      1.00      1.00         1\n",
      "          68       1.00      1.00      1.00         1\n",
      "          69       0.33      1.00      0.50         1\n",
      "          70       0.00      0.00      0.00         1\n",
      "          71       0.00      0.00      0.00         1\n",
      "          72       0.00      0.00      0.00         1\n",
      "          73       0.00      0.00      0.00         1\n",
      "          74       0.50      1.00      0.67         1\n",
      "          75       0.50      1.00      0.67         1\n",
      "          76       0.20      1.00      0.33         1\n",
      "          77       0.00      0.00      0.00         1\n",
      "          78       0.00      0.00      0.00         1\n",
      "          79       0.50      1.00      0.67         1\n",
      "          80       0.00      0.00      0.00         1\n",
      "          81       0.50      1.00      0.67         1\n",
      "          82       0.00      0.00      0.00         1\n",
      "          83       0.00      0.00      0.00         1\n",
      "          84       1.00      1.00      1.00         1\n",
      "          85       0.00      0.00      0.00         1\n",
      "          86       0.50      1.00      0.67         1\n",
      "          87       0.00      0.00      0.00         1\n",
      "          88       0.00      0.00      0.00         1\n",
      "          89       0.00      0.00      0.00         1\n",
      "          90       1.00      1.00      1.00         1\n",
      "          91       0.00      0.00      0.00         1\n",
      "          92       0.50      1.00      0.67         1\n",
      "          93       0.00      0.00      0.00         1\n",
      "          94       0.50      1.00      0.67         1\n",
      "          95       0.00      0.00      0.00         1\n",
      "          96       0.00      0.00      0.00         1\n",
      "          97       0.00      0.00      0.00         1\n",
      "          98       1.00      1.00      1.00         1\n",
      "          99       0.00      0.00      0.00         1\n",
      "\n",
      "    accuracy                           0.34       100\n",
      "   macro avg       0.26      0.34      0.28       100\n",
      "weighted avg       0.26      0.34      0.28       100\n",
      "\n"
     ]
    },
    {
     "name": "stderr",
     "output_type": "stream",
     "text": [
      "C:\\Users\\ioiou\\Anaconda3\\envs\\new\\lib\\site-packages\\sklearn\\metrics\\_classification.py:1268: UndefinedMetricWarning: Precision and F-score are ill-defined and being set to 0.0 in labels with no predicted samples. Use `zero_division` parameter to control this behavior.\n",
      "  _warn_prf(average, modifier, msg_start, len(result))\n"
     ]
    }
   ],
   "source": [
    "print (classification_report(valy,a))"
   ]
  },
  {
   "cell_type": "code",
   "execution_count": 19,
   "metadata": {},
   "outputs": [],
   "source": [
    "import pandas as pd #讀檔\n",
    "d = pd.read_csv(\"submission_example.csv\")\n",
    "ID=d[\"Id\"] #圖片名\n",
    "testimg=[]\n",
    "testa=[]\n",
    "testb=[]\n",
    "\n",
    "\n",
    "for i in range(len(ID)):\n",
    "    testimg.append(process(ID[i]))"
   ]
  },
  {
   "cell_type": "code",
   "execution_count": 20,
   "metadata": {},
   "outputs": [],
   "source": [
    "for i in range(0,len(testimg)): #0~100\n",
    "    (p,c)=Eigen.predict(testimg[i]) #要上傳的檔案\n",
    "    testa.append(p)\n",
    "    \n",
    "    d['Category'].values[i]=p #Category欄位名"
   ]
  },
  {
   "cell_type": "code",
   "execution_count": 21,
   "metadata": {},
   "outputs": [
    {
     "name": "stdout",
     "output_type": "stream",
     "text": [
      "[1, 76, 52, 94, 62, 2, 63, 68, 6, 86, 51, 73, 73, 88, 94, 73, 93, 69, 5, 54, 85, 77, 20, 73, 16, 59, 84, 9, 51, 41, 42, 85, 85, 29, 6, 75, 37, 9, 30, 74, 76, 23, 73, 95, 16, 93, 40, 46, 19, 94, 75, 79, 20, 48, 53, 82, 18, 25, 7, 12, 19, 17, 20, 12, 84, 74, 63, 33, 82, 62, 19, 55, 42, 21, 76, 57, 90, 23, 73, 20, 34, 80, 67, 52, 69, 99, 37, 36, 94, 81, 16, 63, 77, 10, 77, 11, 61, 44, 20, 95]\n"
     ]
    }
   ],
   "source": [
    "d.to_csv('123abcguogadee.csv',index=False) #另存新檔\n",
    "print (testa)"
   ]
  },
  {
   "cell_type": "code",
   "execution_count": null,
   "metadata": {},
   "outputs": [],
   "source": []
  }
 ],
 "metadata": {
  "kernelspec": {
   "display_name": "Python 3",
   "language": "python",
   "name": "python3"
  },
  "language_info": {
   "codemirror_mode": {
    "name": "ipython",
    "version": 3
   },
   "file_extension": ".py",
   "mimetype": "text/x-python",
   "name": "python",
   "nbconvert_exporter": "python",
   "pygments_lexer": "ipython3",
   "version": "3.6.9"
  }
 },
 "nbformat": 4,
 "nbformat_minor": 2
}
